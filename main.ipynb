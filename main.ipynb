{
 "cells": [
  {
   "cell_type": "markdown",
   "metadata": {},
   "source": [
    "# Imports"
   ]
  },
  {
   "cell_type": "code",
   "execution_count": 19,
   "metadata": {},
   "outputs": [],
   "source": [
    "# Basic libraries\n",
    "import numpy as np\n",
    "import pandas as pd\n",
    "import matplotlib.pyplot as plt\n",
    "\n",
    "# PyTorch libraries\n",
    "import torch\n",
    "\n",
    "#Neural network libraries\n",
    "import torch.nn as nn\n",
    "import torch.nn.functional as F\n",
    "\n",
    "# #Creating optimizer\n",
    "import torch.optim as optim\n",
    "\n",
    "# For terminating program (useful for stopping before training is complete and seeing entire result)\n",
    "import signal\n",
    "import sys, os"
   ]
  },
  {
   "cell_type": "markdown",
   "metadata": {},
   "source": [
    "# CSV Management"
   ]
  },
  {
   "cell_type": "code",
   "execution_count": 20,
   "metadata": {},
   "outputs": [
    {
     "name": "stdout",
     "output_type": "stream",
     "text": [
      "['150', 'Recycling and reusing materials from discarded products can be challenging. One of the main challenges is the complexity of many modern products, which can be made up of a large number of different materials and components. This can make it difficult to separate and process these materials in an efficient and cost-effective manner. \\n', 'Napapijri has developed a line of high-performance jackets, launched under the Circular Series, that are made entirely from a single polymer called Nylon 6, made from recycled fish nets. The material is durable, high performing, and easily recycled, making it suitable for use in the circular economy. Napapijri has simplified the design of the jackets so that all components, including the fabric, filling, and trimmings, are made from the same material. This makes it easier to recycle the jackets at the end of their lifespan. \\nCustomers who purchase a Circular Series jacket are encouraged to register their product online and can receive a 20% discount on future purchases when they return their used jackets for recycling. \\nThe old jackets are chemically recycled using a depolymerization process by a company called Aquafil, which transforms them into a recycled nylon called Econyl. The Circular Series jackets have been assessed using the Cradle2Cradle product scorecard and have earned a Gold Certification level. The jackets are currently expensive, but prices are expected to fall as demand increases and production efficiencies improve.\\n']\n"
     ]
    }
   ],
   "source": [
    "script_dir = os.path.abspath('') # absolute file path in Jupyter\n",
    "file_path = os.path.join(script_dir, \"AI EarthHack Dataset.csv\") # file path for the text file input\n",
    "\n",
    "import_dataset = pd.read_csv(file_path, header=None)\n",
    "\n",
    "dataset = []\n",
    "for i in range(len(import_dataset[0])):\n",
    "    dataset.append([import_dataset[0][i], import_dataset[1][i], import_dataset[2][i]])\n",
    "\n",
    "print(dataset[150])\n"
   ]
  }
 ],
 "metadata": {
  "kernelspec": {
   "display_name": "Python 3",
   "language": "python",
   "name": "python3"
  },
  "language_info": {
   "codemirror_mode": {
    "name": "ipython",
    "version": 3
   },
   "file_extension": ".py",
   "mimetype": "text/x-python",
   "name": "python",
   "nbconvert_exporter": "python",
   "pygments_lexer": "ipython3",
   "version": "3.9.6"
  }
 },
 "nbformat": 4,
 "nbformat_minor": 2
}
