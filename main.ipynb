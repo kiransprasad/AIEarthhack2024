{
 "cells": [
  {
   "cell_type": "markdown",
   "metadata": {},
   "source": [
    "# Imports\n",
    "\n",
    "Libraries"
   ]
  },
  {
   "cell_type": "code",
   "execution_count": 121,
   "metadata": {},
   "outputs": [],
   "source": [
    "# Basic libraries\n",
    "import numpy as np\n",
    "import pandas as pd\n",
    "import matplotlib.pyplot as plt\n",
    "\n",
    "# PyTorch libraries\n",
    "import torch\n",
    "\n",
    "#Neural network libraries\n",
    "import torch.nn as nn\n",
    "import torch.nn.functional as F\n",
    "\n",
    "# #Creating optimizer\n",
    "import torch.optim as optim\n",
    "\n",
    "# For terminating program (useful for stopping before training is complete and seeing entire result)\n",
    "import signal\n",
    "import sys, os"
   ]
  },
  {
   "cell_type": "markdown",
   "metadata": {},
   "source": [
    "CSV File"
   ]
  },
  {
   "cell_type": "code",
   "execution_count": 122,
   "metadata": {},
   "outputs": [
    {
     "name": "stdout",
     "output_type": "stream",
     "text": [
      "0                                                 problem\n",
      "1       The construction industry is indubitably one o...\n",
      "2       I'm sure you, like me, are feeling the heat - ...\n",
      "3       The massive shift in student learning towards ...\n",
      "4       The fashion industry is one of the top contrib...\n",
      "                              ...                        \n",
      "1296    The linear 'take, make, dispose' model of prod...\n",
      "1297    The conundrum we face is the improper disposal...\n",
      "1298               This solution will help the vegetation\n",
      "1299    Accumulation and improper disposal of single-u...\n",
      "1300    The excessive and wasteful resource consumptio...\n",
      "Name: 1, Length: 1301, dtype: object\n"
     ]
    }
   ],
   "source": [
    "script_dir = os.path.abspath('') # absolute file path in Jupyter\n",
    "file_path = os.path.join(script_dir, \"AI EarthHack Dataset.csv\") # file path for the text file input\n",
    "\n",
    "dataset = pd.read_csv(file_path, header=None)\n",
    "print(dataset[1])"
   ]
  },
  {
   "cell_type": "markdown",
   "metadata": {},
   "source": [
    "# Zero-Shot Classification"
   ]
  },
  {
   "cell_type": "code",
   "execution_count": 131,
   "metadata": {},
   "outputs": [
    {
     "name": "stdout",
     "output_type": "stream",
     "text": [
      "{'Relevance': [0.9193720817565918, 0.9271174669265747, 0.9306560754776001, 0.8955116271972656, 0.9487287998199463, 0.9185700416564941, 0.5345593094825745, 0.9396084547042847, 0.9541129469871521, 0.7660059928894043], 'Feasibility': [0.9248408079147339, 0.819028913974762, 0.9659156799316406, 0.7874659895896912, 0.9630635380744934, 0.9665031433105469, 0.42798101902008057, 0.9326707720756531, 0.943945586681366, 0.904151439666748], 'Innovation': [0.8587149381637573, 0.9497579336166382, 0.7300000190734863, 0.7523269057273865, 0.9739944338798523, 0.6928094625473022, 0.24945354461669922, 0.9613739848136902, 0.8725293874740601, 0.3659786880016327], 'Scalability': [0.9431308507919312, 0.5450352430343628, 0.8402358293533325, 0.6722171306610107, 0.9486923813819885, 0.9851491451263428, 0.3123508095741272, 0.8632518649101257, 0.9745986461639404, 0.6450303196907043], 'Circular Economic': [0.9431308507919312, 0.5450352430343628, 0.8402358293533325, 0.6722171306610107, 0.9486923813819885, 0.9851491451263428, 0.3123508095741272, 0.8632518649101257, 0.9745986461639404, 0.6450303196907043]}\n"
     ]
    }
   ],
   "source": [
    "from transformers import pipeline\n",
    "\n",
    "# TODO look into changing the modle, bart-large-mnli seems to be the most populat for ZSC\n",
    "# Other options are T5, GPT, and RoBERTa\n",
    "\n",
    "# Models tried:\n",
    "# - facebook/bart-large-mnli\n",
    "# - sjrhuschlee/flan-t5-base-mnli\n",
    "# - google/flan-t5-base\n",
    "\n",
    "classifier = pipeline(\"zero-shot-classification\", model=\"sjrhuschlee/flan-t5-base-mnli\")\n",
    "\n",
    "# Example class descriptions and input text\n",
    "# input_text = [[\"Problem: \"+str(dataset[1][i]), \"Solution: \"+str(dataset[2][i])] for i in range(1,3)]\n",
    "# Bad solutions: 39, 52, 22, 457, 279\n",
    "# Good solutions: 3, 117\n",
    "\n",
    "class_descriptions1=[\n",
    "    \"\"\"\n",
    "    The problem and solution are detailed, specific, and in-depth.\n",
    "    Bonus points if they are related to circular economy.\n",
    "    \"\"\",\n",
    "    \"\"\"\n",
    "    The problem and/or solution are sloppy, off-topic (i.e., not sustainability related), unsuitable, or vague (such as the over-generic content that prioritizes form over substance, offering generalities instead of specific details).\n",
    "    In addition, inputs such as, 'Problem: I will research to make solution Solution: Hi' belong in this category\n",
    "    \"\"\"\n",
    "]\n",
    "\n",
    "class_descriptions2=[\n",
    "    \"\"\"\n",
    "    The solution is feasible.\n",
    "    \"\"\",\n",
    "    \"\"\"\n",
    "    The solution is not feasible.\n",
    "    This can mean that the solution is too wide in scope to be easily implemented, or puts unreasonable expectations on people, businesses, or the world as a whole.\n",
    "    Any solution that would take a large amount of resources or manpower to execute successfully would also be considered not feasible.\n",
    "    \"\"\"\n",
    "]\n",
    "\n",
    "class_descriptions3=[\n",
    "    \"\"\"\n",
    "    The solution is innovative.\n",
    "    A solution is innovative if it imagines something completely new and novel.\n",
    "    \"\"\",\n",
    "    \"\"\"\n",
    "    The solution is not innovative.\n",
    "    A solution is considered not innovative if it does not present any originality.\n",
    "    \"\"\"\n",
    "]\n",
    "\n",
    "class_descriptions4 = [\n",
    "    \"\"\"\n",
    "    The solution is scalable.\n",
    "    A scalable solution will often provide a clear path on how the solution can be scaled in the future, if required.\n",
    "    A scalable solution is one that can start small, and grows to have a larger area of effect over time.\n",
    "    \"\"\",\n",
    "    \"\"\"\n",
    "    The solution is not scalable.\n",
    "    These solutions are ones that only focus on the small scale, and could not easily be done on a large scale.\n",
    "    \"\"\"\n",
    "]\n",
    "\n",
    "class_descriptions5 = [\n",
    "    \"\"\"\n",
    "    The solution is not pertinent to a circular economy.\n",
    "    In today’s rapidly evolving world, climate change stands as a formidable problem, deeply influencing our daily lives and the health of our planet. The circular economy, with its focus on reusing and recycling resources to minimize waste, emerges as a crucial strategy in this battle. Innovations like car-sharing platforms significantly reduce the carbon footprint of transportation, while modular designs in various products promote waste reduction by allowing individual components to be upgraded rather than discarding the entire item.\n",
    "    In the face of climate change's criticality, the urgency to identify and implement high-impact circular economy solutions has never been greater. The challenge we confront today, however, extends beyond coming up with solutions to confront this problem. It lies in the daunting task of effectively evaluating a vast and diverse array of solutions, discerning the most impactful ones amidst a sea of possibilities. This process can be overwhelming, given the complexity and the sheer volume of potential solutions, leading to cognitive overload for human evaluators.\n",
    "    \"\"\",\n",
    "    \"The solution is not pertinent to a circular economy.\"\n",
    "]\n",
    "\n",
    "all_descriptions = {\n",
    "    \"Relevance\": class_descriptions1,\n",
    "    \"Feasibility\": class_descriptions2,\n",
    "    \"Innovation\": class_descriptions3,\n",
    "    \"Scalability\": class_descriptions4,\n",
    "    \"Circular Economic\": class_descriptions4\n",
    "}\n",
    "\n",
    "scores = {\n",
    "    \"Relevance\": [],\n",
    "    \"Feasibility\": [],\n",
    "    \"Innovation\": [],\n",
    "    \"Scalability\": [],\n",
    "    \"Circular Economic\": []\n",
    "}\n",
    "\n",
    "# Scalability 40\n",
    "\n",
    "low_limit = 1\n",
    "up_limit = 10\n",
    "\n",
    "for i in range(1,up_limit+1):\n",
    "    input_text = \"Problem: \" + str(dataset[1][i]) + \" Solution: \" + str(dataset[2][i]).replace(\"\\\"\\\"\\\"\\\"\", \"\")\n",
    "    for category in all_descriptions:\n",
    "    #category = \"Relevance\"\n",
    "        result = classifier(input_text, all_descriptions[category])\n",
    "        for label,score in zip(result[\"labels\"], result[\"scores\"]):\n",
    "            if label==all_descriptions[category][0]:\n",
    "                scores[category].append(score)\n",
    "                # print(dataset[0][i] + \": \" + str(scores[category][(j := j+1)]))\n",
    "\n",
    "print(scores)"
   ]
  },
  {
   "cell_type": "code",
   "execution_count": 130,
   "metadata": {},
   "outputs": [],
   "source": [
    "# Putting in another CSV\n",
    "obj1 = {'Id':dataset[0][low_limit:up_limit+1], 'Problem':dataset[1][low_limit:up_limit+1], 'Solution':dataset[2][low_limit:up_limit+1]}\n",
    "obj1.update(scores)\n",
    "df1 = pd.DataFrame(obj1)\n",
    "\n",
    "new_csv = 'Analyzed_dataset.csv'\n",
    "script_dir = os.path.abspath('')\n",
    "file_path = os.path.join(script_dir,new_csv)\n",
    "df1.to_csv(file_path,index=False)"
   ]
  }
 ],
 "metadata": {
  "kernelspec": {
   "display_name": "Python 3",
   "language": "python",
   "name": "python3"
  },
  "language_info": {
   "codemirror_mode": {
    "name": "ipython",
    "version": 3
   },
   "file_extension": ".py",
   "mimetype": "text/x-python",
   "name": "python",
   "nbconvert_exporter": "python",
   "pygments_lexer": "ipython3",
   "version": "3.10.12"
  }
 },
 "nbformat": 4,
 "nbformat_minor": 2
}
